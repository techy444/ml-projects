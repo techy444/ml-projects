{
 "cells": [
  {
   "cell_type": "code",
   "execution_count": 1,
   "id": "7e0d8a41-abda-4a44-bc7e-d75748281f3d",
   "metadata": {},
   "outputs": [],
   "source": [
    "import tensorflow as tf\n",
    "from tensorflow.keras import datasets, layers , models\n",
    "import matplotlib.pyplot as plt\n",
    "import numpy as np"
   ]
  },
  {
   "cell_type": "code",
   "execution_count": 2,
   "id": "7acbc38f-8a64-4876-bf3c-4ca38bb8e545",
   "metadata": {},
   "outputs": [],
   "source": [
    "(X_train, y_train), (X_test, y_test) = datasets.cifar10.load_data()"
   ]
  },
  {
   "cell_type": "code",
   "execution_count": 3,
   "id": "be4870ae-d14a-4ab6-8868-e719840f914c",
   "metadata": {},
   "outputs": [
    {
     "data": {
      "text/plain": [
       "(50000, 32, 32, 3)"
      ]
     },
     "execution_count": 3,
     "metadata": {},
     "output_type": "execute_result"
    }
   ],
   "source": [
    "X_train.shape#a 3d image "
   ]
  },
  {
   "cell_type": "code",
   "execution_count": 4,
   "id": "7cb87053-5469-4078-be5a-ae5b165955d7",
   "metadata": {},
   "outputs": [
    {
     "data": {
      "text/plain": [
       "(10000, 32, 32, 3)"
      ]
     },
     "execution_count": 4,
     "metadata": {},
     "output_type": "execute_result"
    }
   ],
   "source": [
    "X_test.shape"
   ]
  },
  {
   "cell_type": "code",
   "execution_count": 5,
   "id": "4333f642-6c3b-4c02-a864-a27031ad253c",
   "metadata": {},
   "outputs": [],
   "source": [
    "y_train=y_train.reshape(-1,) #ytrain has outputs in tho form of 2d rray so we converted it to 1d array"
   ]
  },
  {
   "cell_type": "code",
   "execution_count": 6,
   "id": "141cd2f3-6977-4d6f-b3e8-465b945f1265",
   "metadata": {},
   "outputs": [
    {
     "data": {
      "text/plain": [
       "array([6, 9, 9, 4, 1], dtype=uint8)"
      ]
     },
     "execution_count": 6,
     "metadata": {},
     "output_type": "execute_result"
    }
   ],
   "source": [
    "y_train[:5]"
   ]
  },
  {
   "cell_type": "code",
   "execution_count": 7,
   "id": "23b6fd87-6dc3-4777-985b-bddf836ed5aa",
   "metadata": {},
   "outputs": [
    {
     "data": {
      "text/plain": [
       "(50000,)"
      ]
     },
     "execution_count": 7,
     "metadata": {},
     "output_type": "execute_result"
    }
   ],
   "source": [
    "y_train.shape"
   ]
  },
  {
   "cell_type": "code",
   "execution_count": 8,
   "id": "57948242-d408-499f-95a2-8b0d60a053ff",
   "metadata": {},
   "outputs": [],
   "source": [
    "classes=[\"airplane\",\t\t\t\t\t\t\t\t\t\t\n",
    "\"automobile\",\t\t\t\t\t\t\t\n",
    "\"bird\",\t\t\t\t\t\t\t\t\n",
    "\"cat\",\t\t\t\t\t\t\t\t\t\t\n",
    "\"deer\",\t\t\t\t\t\t\t\t\t\t\n",
    "\"dog\",\t\t\t\t\t\t\t\t\t\t\n",
    "\"frog\",\t\t\t\t\t\t\t\t\t\t\n",
    "\"horse\",\t\t\t\t\t\t\t\t\t\t\n",
    "\"ship\",\t\t\t\t\t\t\t\t\t\t\n",
    "\"truck\",\t\t\t\t\t\t\t\t\t\t\n",
    "]"
   ]
  },
  {
   "cell_type": "code",
   "execution_count": 9,
   "id": "fefc9e24-f4a2-4c84-b13b-aed799ebb0b4",
   "metadata": {},
   "outputs": [
    {
     "data": {
      "text/plain": [
       "'airplane'"
      ]
     },
     "execution_count": 9,
     "metadata": {},
     "output_type": "execute_result"
    }
   ],
   "source": [
    "classes[0]"
   ]
  },
  {
   "cell_type": "code",
   "execution_count": 10,
   "id": "5db98eb0-a464-4185-a9c3-890ffb990826",
   "metadata": {},
   "outputs": [],
   "source": [
    "def plot_sample(X,y,index):\n",
    "    plt.figure(figsize=(15,2))\n",
    "    plt.imshow(X[index])\n",
    "    plt.xlabel(classes[y[index]])"
   ]
  },
  {
   "cell_type": "code",
   "execution_count": 11,
   "id": "bd038d37-de4d-435c-b6ef-2caf78fc8741",
   "metadata": {},
   "outputs": [
    {
     "data": {
      "image/png": "[encoded data removed]",
      "text/plain": [
       "<Figure size 1500x200 with 1 Axes>"
      ]
     },
     "metadata": {},
     "output_type": "display_data"
    }
   ],
   "source": [
    "plot_sample(X_train,y_train,5)"
   ]
  },
  {
   "cell_type": "code",
   "execution_count": 12,
   "id": "c34ed736-3c4d-4c74-b7bb-5153d41be7b3",
   "metadata": {},
   "outputs": [],
   "source": [
    "X_train = X_train / 255.0\n",
    "X_test = X_test / 255.0\n"
   ]
  },
  {
   "cell_type": "code",
   "execution_count": 20,
   "id": "9976c009-4fbe-4b5e-bd76-f2bf7095b7d9",
   "metadata": {},
   "outputs": [],
   "source": [
    "\n",
    "from tensorflow.keras.models import Sequential\n",
    "from tensorflow.keras.layers import Dense, Flatten\n",
    "\n",
    "ann=models.Sequential([\n",
    "    tf.keras.Input(shape=(32,32,3)),  # ✅ Preferred way\n",
    "    tf.keras.layers.Flatten(),\n",
    "    Dense(3000, activation='relu'),\n",
    "    Dense(1000, activation='relu'),\n",
    "    Dense(10, activation='softmax')\n",
    "])"
   ]
  },
  {
   "cell_type": "code",
   "execution_count": 21,
   "id": "462cb01b-eefc-4d8e-911a-445e1faede66",
   "metadata": {},
   "outputs": [],
   "source": [
    "ann.compile(optimizer='adam',\n",
    "              loss='sparse_categorical_crossentropy',\n",
    "              metrics=['accuracy'])\n"
   ]
  },
  {
   "cell_type": "code",
   "execution_count": 22,
   "id": "9bff923a-8051-4d81-a074-852cfa488714",
   "metadata": {},
   "outputs": [
    {
     "name": "stdout",
     "output_type": "stream",
     "text": [
      "Epoch 1/5\n",
      "\u001b[1m400/400\u001b[0m \u001b[32m━━━━━━━━━━━━━━━━━━━━\u001b[0m\u001b[37m\u001b[0m \u001b[1m74s\u001b[0m 176ms/step - accuracy: 0.2486 - loss: 2.6254 - val_accuracy: 0.3668 - val_loss: 1.7517\n",
      "Epoch 2/5\n",
      "\u001b[1m400/400\u001b[0m \u001b[32m━━━━━━━━━━━━━━━━━━━━\u001b[0m\u001b[37m\u001b[0m \u001b[1m72s\u001b[0m 181ms/step - accuracy: 0.3861 - loss: 1.7107 - val_accuracy: 0.4222 - val_loss: 1.6461\n",
      "Epoch 3/5\n",
      "\u001b[1m400/400\u001b[0m \u001b[32m━━━━━━━━━━━━━━━━━━━━\u001b[0m\u001b[37m\u001b[0m \u001b[1m72s\u001b[0m 179ms/step - accuracy: 0.4208 - loss: 1.6191 - val_accuracy: 0.4350 - val_loss: 1.6020\n",
      "Epoch 4/5\n",
      "\u001b[1m400/400\u001b[0m \u001b[32m━━━━━━━━━━━━━━━━━━━━\u001b[0m\u001b[37m\u001b[0m \u001b[1m68s\u001b[0m 169ms/step - accuracy: 0.4459 - loss: 1.5541 - val_accuracy: 0.4387 - val_loss: 1.5704\n",
      "Epoch 5/5\n",
      "\u001b[1m400/400\u001b[0m \u001b[32m━━━━━━━━━━━━━━━━━━━━\u001b[0m\u001b[37m\u001b[0m \u001b[1m71s\u001b[0m 177ms/step - accuracy: 0.4594 - loss: 1.5070 - val_accuracy: 0.4550 - val_loss: 1.5267\n"
     ]
    },
    {
     "data": {
      "text/plain": [
       "<keras.src.callbacks.history.History at 0x2e3650ec3e0>"
      ]
     },
     "execution_count": 22,
     "metadata": {},
     "output_type": "execute_result"
    }
   ],
   "source": [
    "ann.fit(X_train, y_train, epochs=5, validation_split=0.2,batch_size=100)\n"
   ]
  },
  {
   "cell_type": "code",
   "execution_count": 31,
   "id": "bf727512-c3bc-4ac0-8757-dc31714cca33",
   "metadata": {},
   "outputs": [
    {
     "name": "stdout",
     "output_type": "stream",
     "text": [
      "\u001b[1m313/313\u001b[0m \u001b[32m━━━━━━━━━━━━━━━━━━━━\u001b[0m\u001b[37m\u001b[0m \u001b[1m3s\u001b[0m 9ms/step\n"
     ]
    }
   ],
   "source": [
    "from sklearn.metrics import confusion_matrix, classification_report\n",
    "import numpy as np\n",
    "y_pred=ann.predict(X_test)\n",
    "y_pred_classes=[np.argmax(element) for element in y_pred]"
   ]
  },
  {
   "cell_type": "code",
   "execution_count": 32,
   "id": "d54fc654-5dbd-4d57-818e-1d43f93f51a6",
   "metadata": {},
   "outputs": [
    {
     "name": "stdout",
     "output_type": "stream",
     "text": [
      "              precision    recall  f1-score   support\n",
      "\n",
      "           0       0.60      0.48      0.53      1000\n",
      "           1       0.63      0.48      0.55      1000\n",
      "           2       0.36      0.19      0.25      1000\n",
      "           3       0.37      0.31      0.34      1000\n",
      "           4       0.37      0.56      0.45      1000\n",
      "           5       0.39      0.31      0.35      1000\n",
      "           6       0.46      0.59      0.51      1000\n",
      "           7       0.61      0.42      0.50      1000\n",
      "           8       0.53      0.69      0.60      1000\n",
      "           9       0.44      0.64      0.52      1000\n",
      "\n",
      "    accuracy                           0.47     10000\n",
      "   macro avg       0.48      0.47      0.46     10000\n",
      "weighted avg       0.48      0.47      0.46     10000\n",
      "\n"
     ]
    }
   ],
   "source": [
    "print(classification_report(y_test,y_pred_classes))"
   ]
  },
  {
   "cell_type": "code",
   "execution_count": 28,
   "id": "5d024240-d14b-4a5e-ac4e-0e78003bf189",
   "metadata": {},
   "outputs": [],
   "source": [
    "from tensorflow.keras.models import Sequential\n",
    "from tensorflow.keras.layers import Conv2D, MaxPooling2D, Flatten, Dense\n",
    "cnn=models.Sequential([\n",
    "\n",
    "    #CNN\n",
    "    Conv2D(filters=32,kernel_size=(3,3),activation='relu',input_shape=(32,32,3)),\n",
    "    MaxPooling2D((2,2)),\n",
    "\n",
    "    Conv2D(filters=64,kernel_size=(3,3),activation='relu'),\n",
    "    MaxPooling2D((2,2)),\n",
    "    #DENSE\n",
    "    tf.keras.layers.Flatten(),\n",
    "    Dense(64, activation='relu'),\n",
    "    Dense(10, activation='softmax')\n",
    "])"
   ]
  },
  {
   "cell_type": "code",
   "execution_count": 29,
   "id": "7aeafa97-3905-405a-b7f0-9ba249335897",
   "metadata": {},
   "outputs": [],
   "source": [
    "cnn.compile(optimizer='adam',\n",
    "              loss='sparse_categorical_crossentropy',\n",
    "              metrics=['accuracy'])\n"
   ]
  },
  {
   "cell_type": "code",
   "execution_count": 30,
   "id": "2002874b-09e6-440c-9406-58f248f1836f",
   "metadata": {},
   "outputs": [
    {
     "name": "stdout",
     "output_type": "stream",
     "text": [
      "Epoch 1/10\n",
      "\u001b[1m400/400\u001b[0m \u001b[32m━━━━━━━━━━━━━━━━━━━━\u001b[0m\u001b[37m\u001b[0m \u001b[1m17s\u001b[0m 34ms/step - accuracy: 0.3389 - loss: 1.8218 - val_accuracy: 0.5159 - val_loss: 1.3601\n",
      "Epoch 2/10\n",
      "\u001b[1m400/400\u001b[0m \u001b[32m━━━━━━━━━━━━━━━━━━━━\u001b[0m\u001b[37m\u001b[0m \u001b[1m13s\u001b[0m 32ms/step - accuracy: 0.5424 - loss: 1.2872 - val_accuracy: 0.5939 - val_loss: 1.1654\n",
      "Epoch 3/10\n",
      "\u001b[1m400/400\u001b[0m \u001b[32m━━━━━━━━━━━━━━━━━━━━\u001b[0m\u001b[37m\u001b[0m \u001b[1m14s\u001b[0m 35ms/step - accuracy: 0.6073 - loss: 1.1178 - val_accuracy: 0.6178 - val_loss: 1.0998\n",
      "Epoch 4/10\n",
      "\u001b[1m400/400\u001b[0m \u001b[32m━━━━━━━━━━━━━━━━━━━━\u001b[0m\u001b[37m\u001b[0m \u001b[1m13s\u001b[0m 33ms/step - accuracy: 0.6388 - loss: 1.0273 - val_accuracy: 0.6483 - val_loss: 1.0219\n",
      "Epoch 5/10\n",
      "\u001b[1m400/400\u001b[0m \u001b[32m━━━━━━━━━━━━━━━━━━━━\u001b[0m\u001b[37m\u001b[0m \u001b[1m14s\u001b[0m 34ms/step - accuracy: 0.6689 - loss: 0.9453 - val_accuracy: 0.6415 - val_loss: 1.0429\n",
      "Epoch 6/10\n",
      "\u001b[1m400/400\u001b[0m \u001b[32m━━━━━━━━━━━━━━━━━━━━\u001b[0m\u001b[37m\u001b[0m \u001b[1m13s\u001b[0m 34ms/step - accuracy: 0.6901 - loss: 0.8904 - val_accuracy: 0.6632 - val_loss: 0.9859\n",
      "Epoch 7/10\n",
      "\u001b[1m400/400\u001b[0m \u001b[32m━━━━━━━━━━━━━━━━━━━━\u001b[0m\u001b[37m\u001b[0m \u001b[1m13s\u001b[0m 33ms/step - accuracy: 0.7092 - loss: 0.8358 - val_accuracy: 0.6785 - val_loss: 0.9350\n",
      "Epoch 8/10\n",
      "\u001b[1m400/400\u001b[0m \u001b[32m━━━━━━━━━━━━━━━━━━━━\u001b[0m\u001b[37m\u001b[0m \u001b[1m20s\u001b[0m 33ms/step - accuracy: 0.7253 - loss: 0.7876 - val_accuracy: 0.6803 - val_loss: 0.9434\n",
      "Epoch 9/10\n",
      "\u001b[1m400/400\u001b[0m \u001b[32m━━━━━━━━━━━━━━━━━━━━\u001b[0m\u001b[37m\u001b[0m \u001b[1m13s\u001b[0m 32ms/step - accuracy: 0.7433 - loss: 0.7389 - val_accuracy: 0.6816 - val_loss: 0.9357\n",
      "Epoch 10/10\n",
      "\u001b[1m400/400\u001b[0m \u001b[32m━━━━━━━━━━━━━━━━━━━━\u001b[0m\u001b[37m\u001b[0m \u001b[1m14s\u001b[0m 34ms/step - accuracy: 0.7568 - loss: 0.6994 - val_accuracy: 0.6811 - val_loss: 0.9484\n"
     ]
    },
    {
     "data": {
      "text/plain": [
       "<keras.src.callbacks.history.History at 0x2e368755a30>"
      ]
     },
     "execution_count": 30,
     "metadata": {},
     "output_type": "execute_result"
    }
   ],
   "source": [
    "cnn.fit(X_train, y_train, epochs=10, validation_split=0.2,batch_size=100)\n"
   ]
  },
  {
   "cell_type": "code",
   "execution_count": 33,
   "id": "3c219fc2-4372-4d48-a1d9-86b2ca0c61ff",
   "metadata": {},
   "outputs": [
    {
     "name": "stdout",
     "output_type": "stream",
     "text": [
      "\u001b[1m313/313\u001b[0m \u001b[32m━━━━━━━━━━━━━━━━━━━━\u001b[0m\u001b[37m\u001b[0m \u001b[1m2s\u001b[0m 6ms/step\n"
     ]
    }
   ],
   "source": [
    "from sklearn.metrics import confusion_matrix, classification_report\n",
    "import numpy as np\n",
    "y_pred=cnn.predict(X_test)\n",
    "y_pred_classes=[np.argmax(element) for element in y_pred]"
   ]
  },
  {
   "cell_type": "code",
   "execution_count": 34,
   "id": "ba24d4b5-60e4-40f2-b6c0-6c0f5ea691eb",
   "metadata": {},
   "outputs": [
    {
     "name": "stdout",
     "output_type": "stream",
     "text": [
      "              precision    recall  f1-score   support\n",
      "\n",
      "           0       0.70      0.76      0.72      1000\n",
      "           1       0.80      0.81      0.81      1000\n",
      "           2       0.63      0.54      0.58      1000\n",
      "           3       0.44      0.61      0.51      1000\n",
      "           4       0.69      0.54      0.60      1000\n",
      "           5       0.61      0.54      0.58      1000\n",
      "           6       0.81      0.74      0.77      1000\n",
      "           7       0.61      0.84      0.71      1000\n",
      "           8       0.87      0.70      0.78      1000\n",
      "           9       0.81      0.72      0.76      1000\n",
      "\n",
      "    accuracy                           0.68     10000\n",
      "   macro avg       0.70      0.68      0.68     10000\n",
      "weighted avg       0.70      0.68      0.68     10000\n",
      "\n"
     ]
    }
   ],
   "source": [
    "print(classification_report(y_test,y_pred_classes))"
   ]
  },
  {
   "cell_type": "code",
   "execution_count": null,
   "id": "570b45cf-78c8-4fa5-81e4-2343c8fff02a",
   "metadata": {},
   "outputs": [],
   "source": []
  }
 ],
 "metadata": {
  "kernelspec": {
   "display_name": "Python 3 (ipykernel)",
   "language": "python",
   "name": "python3"
  },
  "language_info": {
   "codemirror_mode": {
    "name": "ipython",
    "version": 3
   },
   "file_extension": ".py",
   "mimetype": "text/x-python",
   "name": "python",
   "nbconvert_exporter": "python",
   "pygments_lexer": "ipython3",
   "version": "3.12.2"
  }
 },
 "nbformat": 4,
 "nbformat_minor": 5
}
